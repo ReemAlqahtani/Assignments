{
 "cells": [
  {
   "cell_type": "code",
   "execution_count": 83,
   "id": "46617138-c889-4b4d-b542-457d2e065126",
   "metadata": {},
   "outputs": [],
   "source": [
    "import json\n",
    "import time\n",
    "import hashlib"
   ]
  },
  {
   "cell_type": "code",
   "execution_count": 85,
   "id": "60a7298c-1457-4b15-90e0-6fc85810c5b1",
   "metadata": {},
   "outputs": [],
   "source": [
    "\n",
    "tx_1 = {\n",
    "   \"addr_from\": \"3J98t1WpEZ73CNmQviecrnyiWrnqRhWNLy\",\n",
    "   \"addr_to\": \"1BvBMSEYstWetqTFn5Au4m4GFg7xJaNVN2\",   \n",
    "   \"amount\": 99.00\n",
    "}\n",
    "tx_2 =   {\"addr_from\": \"2658HC5Au4m4GFg7xJaNVN2\",\n",
    "         \"addr_to\": \"Fintech\",   \n",
    "        \"amount\": 97.00}\n",
    "tx_3 =   {\"addr_from\": \"7GKLB0CJ730298K11HDER\",\n",
    "         \"addr_to\": \"T50VDZ33NJGY\",   \n",
    "        \"amount\": 571.00}"
   ]
  },
  {
   "cell_type": "code",
   "execution_count": 86,
   "id": "ce7bdd85-0b5c-4516-b852-51b18107e5e7",
   "metadata": {},
   "outputs": [],
   "source": [
    "class Block():\n",
    "        \n",
    "    def __init__(self,index:int =0, transactions:list =[] ,timestamp:int=0 ,cur_hash:str =\"\" ,previous_hash:str =\"\",nonce:int =0):\n",
    "\n",
    "        self.index:int =index\n",
    "        self.transactions:list = transactions\n",
    "        self.timestamp = timestamp\n",
    "        self.cur_hash:str =cur_hash \n",
    "        self.previous_hash:str = previous_hash\n",
    "        self.nonce:int =nonce\n",
    "            \n",
    "            \n",
    "            \n",
    "    def compute_hash(self) -> str :\n",
    "                block_string =json.dumps(self.__dict__, sort_keys =True)\n",
    "                return hashlib.sha256(block_string.encode()).hexdigest()"
   ]
  },
  {
   "cell_type": "code",
   "execution_count": 87,
   "id": "c42fedf6-711a-4c26-9acc-f8816de89a38",
   "metadata": {},
   "outputs": [],
   "source": [
    "class Blockchain:     \n",
    "    def __init__(self):\n",
    "        self.unconfirmed_transactions:List[dict] =[]\n",
    "        self.chain:List[Block]= []\n",
    "        self.difficulty:int =2\n",
    "        self.create_genesis_block()\n",
    "        \n",
    "    def get_last_block(self):\n",
    "            return self.chain[-1]\n",
    "    \n",
    "    def create_genesis_block(self):\n",
    "        genesis_block = Block(index =0, transactions =[], timestamp =time.time(),previous_hash= \"0\")\n",
    "        genesis_block.hash = genesis_block.compute_hash()\n",
    "        self.chain.append(genesis_block)\n",
    "\n",
    "        \n",
    "    def proof_of_work(self, block) -> str:\n",
    "        computed_hash = block.compute_hash()\n",
    "        while not computed_hash.startswith('0'  * self.difficulty) : \n",
    "            block.nonce += 1\n",
    "            computed_hash = block.compute_hash()\n",
    "        return computed_hash\n",
    " \n",
    "    def  is_valid_proof(self, block:Block, block_hash:str) -> bool:\n",
    "        return block_hash.startswith('0'* self.difficulty) and block_hash ==block.compute_hash()\n",
    "        \n",
    "    def add_block(self, block:Block, proof:str) -> bool:\n",
    "        last_block=self.get_last_block()\n",
    "        last_block.hash\n",
    "      \n",
    "        if  last_block.hash != block.previous_hash:\n",
    "                return False\n",
    "        if not self.is_valid_proof (block,proof):\n",
    "                return False\n",
    "        block.hash =proof\n",
    "        self.chain.append(block)\n",
    "        return True \n",
    "        \n",
    "        \n",
    "    def add_new_transaction(self, transaction:dict) -> None:\n",
    "            self.unconfirmed_transactions.append(transaction)\n",
    "            \n",
    "    def mine (self) ->int:\n",
    "        if len( self.unconfirmed_transactions)<1:\n",
    "            return -1\n",
    "    \n",
    "        last_block =self.get_last_block()\n",
    "        self.unconfirmed_transactions.append(tx_1)\n",
    "        \n",
    "        new_block = Block(index =last_block.index+1 ,transactions = self.unconfirmed_transactions ,\n",
    "                             timestamp =int(time.time()),previous_hash = last_block.hash)\n",
    "            \n",
    "            \n",
    "        proof = self.proof_of_work(new_block)\n",
    "        self.add_block(new_block,proof)\n",
    "        self.unconfirmed_transactions =[]\n",
    "        return new_block.index"
   ]
  },
  {
   "cell_type": "code",
   "execution_count": 88,
   "id": "a2b19b01-aafc-4387-9c01-20713154a900",
   "metadata": {},
   "outputs": [
    {
     "data": {
      "text/plain": [
       "<__main__.Blockchain at 0x21fc6330490>"
      ]
     },
     "execution_count": 88,
     "metadata": {},
     "output_type": "execute_result"
    }
   ],
   "source": [
    "Blockchain()"
   ]
  },
  {
   "cell_type": "code",
   "execution_count": 89,
   "id": "83d336fc-1c4b-49b7-b632-49fb488d2396",
   "metadata": {},
   "outputs": [
    {
     "data": {
      "text/plain": [
       "[None, None, None]"
      ]
     },
     "execution_count": 89,
     "metadata": {},
     "output_type": "execute_result"
    }
   ],
   "source": [
    "bc = Blockchain()\n",
    "\n",
    "[bc.add_new_transaction(tx)for tx in [tx_1,tx_2,tx_3]]"
   ]
  },
  {
   "cell_type": "code",
   "execution_count": 90,
   "id": "4c44107d-f388-4fff-9322-2c342454d608",
   "metadata": {},
   "outputs": [
    {
     "data": {
      "text/plain": [
       "[{'addr_from': '3J98t1WpEZ73CNmQviecrnyiWrnqRhWNLy',\n",
       "  'addr_to': '1BvBMSEYstWetqTFn5Au4m4GFg7xJaNVN2',\n",
       "  'amount': 99.0},\n",
       " {'addr_from': '2658HC5Au4m4GFg7xJaNVN2',\n",
       "  'addr_to': 'Fintech',\n",
       "  'amount': 97.0},\n",
       " {'addr_from': '7GKLB0CJ730298K11HDER',\n",
       "  'addr_to': 'T50VDZ33NJGY',\n",
       "  'amount': 571.0}]"
      ]
     },
     "execution_count": 90,
     "metadata": {},
     "output_type": "execute_result"
    }
   ],
   "source": [
    "bc.unconfirmed_transactions"
   ]
  },
  {
   "cell_type": "code",
   "execution_count": 91,
   "id": "1804eba7-6b87-4f23-b8f2-d9c4047ffb75",
   "metadata": {},
   "outputs": [
    {
     "data": {
      "text/plain": [
       "1"
      ]
     },
     "execution_count": 91,
     "metadata": {},
     "output_type": "execute_result"
    }
   ],
   "source": [
    "bc.mine()"
   ]
  },
  {
   "cell_type": "code",
   "execution_count": 93,
   "id": "e649eb93-3620-46c3-a30e-d336a102d2db",
   "metadata": {},
   "outputs": [
    {
     "data": {
      "text/plain": [
       "<__main__.Block at 0x21fc6330610>"
      ]
     },
     "execution_count": 93,
     "metadata": {},
     "output_type": "execute_result"
    }
   ],
   "source": [
    "bc.chain[1]"
   ]
  },
  {
   "cell_type": "code",
   "execution_count": 94,
   "id": "0b91cb3e-6982-4bd0-b0e3-5a83fbd9f863",
   "metadata": {},
   "outputs": [
    {
     "data": {
      "text/plain": [
       "<bound method Blockchain.get_last_block of <__main__.Blockchain object at 0x0000021FC6330880>>"
      ]
     },
     "execution_count": 94,
     "metadata": {},
     "output_type": "execute_result"
    }
   ],
   "source": [
    "bc. get_last_block"
   ]
  },
  {
   "cell_type": "code",
   "execution_count": null,
   "id": "98d9508f-f1b8-492e-acf0-89149ec57f00",
   "metadata": {},
   "outputs": [],
   "source": []
  }
 ],
 "metadata": {
  "kernelspec": {
   "display_name": "Python 3",
   "language": "python",
   "name": "python3"
  },
  "language_info": {
   "codemirror_mode": {
    "name": "ipython",
    "version": 3
   },
   "file_extension": ".py",
   "mimetype": "text/x-python",
   "name": "python",
   "nbconvert_exporter": "python",
   "pygments_lexer": "ipython3",
   "version": "3.8.8"
  }
 },
 "nbformat": 4,
 "nbformat_minor": 5
}
